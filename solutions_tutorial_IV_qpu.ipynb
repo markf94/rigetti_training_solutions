{
 "cells": [
  {
   "cell_type": "markdown",
   "metadata": {},
   "source": [
    "## Tutorial 4: Advanced features\n",
    "In this tutorial, you will learn:\n",
    "* _How to intspect Rigetti's devices using Forest API_\n",
    "* _Extract and interpret the information about decoherence of the qubits_\n",
    "* _Usage of the server-side compiler_\n",
    "* _How to incorporate noise models to estimate performance of the circuit on the real chip_\n",
    "\n",
    "$$\\newcommand{\\ket}[1]{\\left|{#1}\\right\\rangle}\n",
    "\\newcommand{\\bra}[1]{\\left\\langle{#1}\\right|}$$"
   ]
  },
  {
   "cell_type": "code",
   "execution_count": 11,
   "metadata": {
    "scrolled": true
   },
   "outputs": [
    {
     "name": "stdout",
     "output_type": "stream",
     "text": [
      "Collecting https://github.com/rigetticomputing/pyquil/archive/master.zip\n",
      "  Downloading https://github.com/rigetticomputing/pyquil/archive/master.zip (45.0MB)\n",
      "\u001b[K    100% |████████████████████████████████| 45.0MB 16kB/s  eta 0:00:01    75% |████████████████████████        | 33.9MB 23.2MB/s eta 0:00:01\n",
      "\u001b[?25hRequirement already up-to-date: networkx in /opt/conda/lib/python3.6/site-packages\n",
      "Requirement already up-to-date: matplotlib in /opt/conda/lib/python3.6/site-packages\n",
      "Requirement already up-to-date: numpy in /opt/conda/lib/python3.6/site-packages (from pyquil==2.0.0.dev0)\n",
      "Requirement already up-to-date: antlr4-python3-runtime in /opt/conda/lib/python3.6/site-packages (from pyquil==2.0.0.dev0)\n",
      "Requirement already up-to-date: requests in /opt/conda/lib/python3.6/site-packages (from pyquil==2.0.0.dev0)\n",
      "Requirement already up-to-date: contextvars in /opt/conda/lib/python3.6/site-packages (from pyquil==2.0.0.dev0)\n",
      "Requirement already up-to-date: six in /opt/conda/lib/python3.6/site-packages (from pyquil==2.0.0.dev0)\n",
      "Requirement already up-to-date: decorator>=4.1.0 in /opt/conda/lib/python3.6/site-packages (from networkx)\n",
      "Requirement already up-to-date: python-dateutil>=2.1 in /opt/conda/lib/python3.6/site-packages (from matplotlib)\n",
      "Requirement already up-to-date: cycler>=0.10 in /opt/conda/lib/python3.6/site-packages (from matplotlib)\n",
      "Requirement already up-to-date: kiwisolver>=1.0.1 in /opt/conda/lib/python3.6/site-packages (from matplotlib)\n",
      "Requirement already up-to-date: pytz in /opt/conda/lib/python3.6/site-packages (from matplotlib)\n",
      "Requirement already up-to-date: pyparsing!=2.0.4,!=2.1.2,!=2.1.6,>=2.0.1 in /opt/conda/lib/python3.6/site-packages (from matplotlib)\n",
      "Requirement already up-to-date: chardet<3.1.0,>=3.0.2 in /opt/conda/lib/python3.6/site-packages (from requests->pyquil==2.0.0.dev0)\n",
      "Requirement already up-to-date: idna<2.8,>=2.5 in /opt/conda/lib/python3.6/site-packages (from requests->pyquil==2.0.0.dev0)\n",
      "Requirement already up-to-date: urllib3<1.24,>=1.21.1 in /opt/conda/lib/python3.6/site-packages (from requests->pyquil==2.0.0.dev0)\n",
      "Requirement already up-to-date: certifi>=2017.4.17 in /opt/conda/lib/python3.6/site-packages (from requests->pyquil==2.0.0.dev0)\n",
      "Requirement already up-to-date: immutables==0.5 in /opt/conda/lib/python3.6/site-packages (from contextvars->pyquil==2.0.0.dev0)\n",
      "Requirement already up-to-date: setuptools in /opt/conda/lib/python3.6/site-packages (from kiwisolver>=1.0.1->matplotlib)\n",
      "Installing collected packages: pyquil\n",
      "  Found existing installation: pyquil 2.0.0.dev0\n",
      "    Uninstalling pyquil-2.0.0.dev0:\n",
      "      Successfully uninstalled pyquil-2.0.0.dev0\n",
      "  Running setup.py install for pyquil ... \u001b[?25ldone\n",
      "\u001b[?25hSuccessfully installed pyquil-2.0.0.dev0\n",
      "\u001b[33mYou are using pip version 9.0.3, however version 10.0.1 is available.\n",
      "You should consider upgrading via the 'pip install --upgrade pip' command.\u001b[0m\n"
     ]
    }
   ],
   "source": [
    "%matplotlib inline\n",
    "!pip install --upgrade https://github.com/rigetticomputing/pyquil/archive/master.zip networkx matplotlib"
   ]
  },
  {
   "cell_type": "code",
   "execution_count": 12,
   "metadata": {},
   "outputs": [],
   "source": [
    "import os\n",
    "\n",
    "API_KEY = ''\n",
    "USER_ID = ''\n",
    "\n",
    "PYQUIL_CONFIG = f\"\"\"\n",
    "[Rigetti Forest]\n",
    "url: https://api.rigetti.com/qvm\n",
    "key: {API_KEY}\n",
    "user_id: {USER_ID}\n",
    "\"\"\"\n",
    "\n",
    "with open(os.path.expanduser('~/.pyquil_config'), 'w') as f:\n",
    "    f.write(PYQUIL_CONFIG)"
   ]
  },
  {
   "cell_type": "markdown",
   "metadata": {},
   "source": [
    "### QPU status\n",
    "\n",
    "The QPU devices can have different status and are not always immediatelly accessible. Luckily, you can inspect this information via Forest API."
   ]
  },
  {
   "cell_type": "markdown",
   "metadata": {},
   "source": [
    "#### Exercise 4.1\n",
    "Use `pyquil.api` module to obtain list of available devices. Only list the devices that are currently online. What other states can devices be in?"
   ]
  },
  {
   "cell_type": "code",
   "execution_count": 39,
   "metadata": {},
   "outputs": [
    {
     "name": "stdout",
     "output_type": "stream",
     "text": [
      "All devices: [<Device 8Q-Agave online>, <Device 19Q-Acorn offline>]\n",
      "Online devices: [<Device 8Q-Agave online>]\n"
     ]
    }
   ],
   "source": [
    "import pyquil\n",
    "devices = list(pyquil.api.get_devices(as_dict=True).values())\n",
    "online_devices = [device for device in devices if device.is_online()]\n",
    "\n",
    "print(f\"All devices: {devices}\")\n",
    "print(f\"Online devices: {online_devices}\")\n",
    "\n",
    "# Device can be in the online, offline or retuning state."
   ]
  },
  {
   "cell_type": "markdown",
   "metadata": {},
   "source": [
    "### Chip topology\n",
    "\n",
    "Knowing qubit topology of the chip you're working with is an important requirement to be able to design efficient circuits. Forest API provides an interface that exposes this information as well."
   ]
  },
  {
   "cell_type": "markdown",
   "metadata": {},
   "source": [
    "\n",
    "#### Exercise 4.2\n",
    "Use <a href=\"https://pyquil.readthedocs.io/en/latest\">Rigetti's documentation</a> to obtain and plot the topology of the `8Q-Agave` chip."
   ]
  },
  {
   "cell_type": "code",
   "execution_count": 24,
   "metadata": {},
   "outputs": [],
   "source": [
    "import pyquil\n",
    "device = pyquil.api.get_devices(as_dict=True)['8Q-Agave']\n",
    "data = device.isa.to_dict()\n",
    "nodes = [key for key, value in data['1Q'].items()]\n",
    "edges = [tuple(key.split('-')) for key, value in data['2Q'].items()]"
   ]
  },
  {
   "cell_type": "code",
   "execution_count": 25,
   "metadata": {},
   "outputs": [
    {
     "data": {
      "image/png": "[encoded data removed]",
      "text/plain": [
       "<Figure size 432x288 with 1 Axes>"
      ]
     },
     "metadata": {},
     "output_type": "display_data"
    }
   ],
   "source": [
    "import networkx\n",
    "G = networkx.Graph()\n",
    "G.add_nodes_from(nodes)\n",
    "G.add_edges_from(edges)\n",
    "networkx.draw(G, with_labels=True, font_weight='bold')"
   ]
  },
  {
   "cell_type": "markdown",
   "metadata": {},
   "source": [
    "#### Exercise 4.3\n",
    "Rigetti also has a newer chip, called `19Q-Acorn`, which is currently offline (as you learned in the exercise 4.1) due to high number of malfunctioning qubits/couplings after a power outage incident. Obtain and plot the topology of the `19Q-Acorn` chip. Note that malfunctioning parts of the chip are marked as \"dead\", make sure to exclude those."
   ]
  },
  {
   "cell_type": "code",
   "execution_count": 26,
   "metadata": {},
   "outputs": [],
   "source": [
    "import pyquil\n",
    "device = pyquil.api.get_devices(as_dict=True)['19Q-Acorn']\n",
    "data = device.isa.to_dict()\n",
    "nodes = [key for key, value in data['1Q'].items() if 'dead' not in value]\n",
    "edges = [tuple(key.split('-')) for key, value in data['2Q'].items() if 'dead' not in value]"
   ]
  },
  {
   "cell_type": "code",
   "execution_count": 27,
   "metadata": {},
   "outputs": [
    {
     "data": {
      "image/png": "[encoded data removed]",
      "text/plain": [
       "<Figure size 432x288 with 1 Axes>"
      ]
     },
     "metadata": {},
     "output_type": "display_data"
    }
   ],
   "source": [
    "import networkx\n",
    "G = networkx.Graph()\n",
    "G.add_nodes_from(nodes)\n",
    "G.add_edges_from(edges)\n",
    "networkx.draw(G, with_labels=True, font_weight='bold')"
   ]
  },
  {
   "cell_type": "markdown",
   "metadata": {},
   "source": [
    "### Decoherence and circuit depth\n",
    "\n",
    "One of the main limiting factors if current near-term devices is actual decoherence of the qubits in the device. Decoherence can be loosely interpreted as loss of the quantum information in the qubit, and is caused by imperfections in the implementations of the quantum gates, or due to simple time-evolution of the system, as any current quantum chip is necessarily an open quantum system to a certain degree.\n",
    "\n",
    "Generally, there are three sources of errors in the implementation of a given quantum circuit:\n",
    "* actual qubit decoherence due to time-evolution (i.e. noise, interactions with environment)\n",
    "* imprecise gate implementations (gates that do not have fidelities of 1)\n",
    "* readout errors"
   ]
  },
  {
   "cell_type": "markdown",
   "metadata": {},
   "source": [
    "#### T_1 and T_2 times\n",
    "$T_1$ and $T_2$ relaxation times are one of the basic measures of performance of qubits in terms of decoherence. Roughly speaking:\n",
    "\n",
    "* $T_1$ relaxation time (also called the \"amplitude damping\") is time during which the qubit decoheres from its excited state $\\ket{1}$ to relaxed state $\\ket{0}$.\n",
    "* $T_2$ relaxation time (also called the \"phase damping\") can be measured using the following experiment: First you put the qubit into the superposition state $\\frac{\\ket{0}+\\ket{1}}{\\sqrt{2}}$ using a Hadamard gate, then you wait for $t_2$ and apply a Hadamard gate again. Without any noise, you would expect the state to be $\\ket{0}$ again (remember $H^2 = I$), but if something caused the qubit to decohere to either $\\ket{0}$ or $\\ket{1}$ in the meantime, you will obtain the $\\frac{\\ket{0}\\pm\\ket{1}}{\\sqrt{2}}$ instead.\n"
   ]
  },
  {
   "cell_type": "markdown",
   "metadata": {},
   "source": [
    "#### Exercise 4.4\n",
    "\n",
    "Use the device specifications of the $T_1$ times `8Q-Agave` chip obtained via the API, determine a simple upper bound on the single-qubit and two-qubit circuit depth on qubit 7 (assuming zero readout error and perfect-fidelity gates).\n",
    "\n",
    "The average gate execution time of single qubit gate is 50ns and 150ns for the case of two-qubit gate."
   ]
  },
  {
   "cell_type": "code",
   "execution_count": 55,
   "metadata": {},
   "outputs": [
    {
     "name": "stdout",
     "output_type": "stream",
     "text": [
      "\n",
      "Single qubit gate depth: 264\n",
      "Two qubit gate depth: 88\n",
      "\n"
     ]
    }
   ],
   "source": [
    "import pyquil\n",
    "device = pyquil.api.get_devices(as_dict=True)['8Q-Agave']\n",
    "single_qubit_depth = device.specs.T1s()[7] / 50e-9\n",
    "two_qubit_depth = device.specs.T1s()[7] / 150e-9\n",
    "print(f\"\"\"\n",
    "Single qubit gate depth: {single_qubit_depth:.0f}\n",
    "Two qubit gate depth: {two_qubit_depth:.0f}\n",
    "\"\"\")"
   ]
  },
  {
   "cell_type": "markdown",
   "metadata": {},
   "source": [
    "#### Noise models\n",
    "Simple estimation as given in the previous exercise provide a generous upper bound, since they neglect other source of errors in the computation, such as the readout errors or gate fidelities. To use a noise model, simply specify a device during definition of the QVMConnection object."
   ]
  },
  {
   "cell_type": "markdown",
   "metadata": {},
   "source": [
    "#### Exercise 4.5\n",
    "\n",
    "Implement a simple circuit consisting of 20 alternating CNOT gates (swtiching between control qubit on 0 and 1). Empirically measure its performance (how many runs out of 1000 did not end up in the expected state)."
   ]
  },
  {
   "cell_type": "code",
   "execution_count": 70,
   "metadata": {},
   "outputs": [
    {
     "data": {
      "text/plain": [
       "0.174"
      ]
     },
     "execution_count": 70,
     "metadata": {},
     "output_type": "execute_result"
    }
   ],
   "source": [
    "import pyquil\n",
    "from pyquil.quil import Program\n",
    "from pyquil.gates import CNOT, MEASURE\n",
    "program = Program(\n",
    "    CNOT(i%2, (i+1)%2) for i in range(20)\n",
    ") + Program(MEASURE(0, 0), MEASURE(1, 1))\n",
    "\n",
    "device = pyquil.api.get_devices(as_dict=True)['8Q-Agave']\n",
    "qvm = pyquil.api.QVMConnection(device=device)\n",
    "results = qvm.run(program, trials=1000)\n",
    "incorrect_results = [r for r in results if r != [0, 0]]\n",
    "len(incorrect_results) / 1000"
   ]
  },
  {
   "cell_type": "markdown",
   "metadata": {},
   "source": [
    "Increase the number of gates to 100 and then 200. How do you interpret the results?"
   ]
  },
  {
   "cell_type": "markdown",
   "metadata": {},
   "source": [
    "### Manually triggered compilation\n",
    "\n",
    "In the usual setting of submitting jobs to the QPU, the compilation is happening transparently, without the user of the Forest API needing to know that the circuit they constructed is decomposed into sequence of gate operations that are actually implemented on the hardware.\n",
    "\n",
    "Similiarly, in order to accurately simulate the device with the noise, the circuits also have to be compiled to the fundamental gate set implemented by the chip, since those gates are the ones we have experimental information about.\n",
    "\n",
    "Given both these cases, it is useful to be able to actually inspect and analyze the compiled version of the circuit - since that is what is exactly being run on the device."
   ]
  },
  {
   "cell_type": "markdown",
   "metadata": {},
   "source": [
    "#### Exercise 4.6\n",
    "\n",
    "Compile circuit from the previous exercise using the CompilerConnection object. Inspect the compiler circuit, and figure out if anything is surprising. Contrast with the result of the previous exercise. Does this explain any surprising results?\n",
    "\n",
    "Additionally, figure out the following parameters of the compiled circuit:\n",
    "* gate depth\n",
    "* two-qubit gate depth\n",
    "* total number of gates used"
   ]
  },
  {
   "cell_type": "code",
   "execution_count": 86,
   "metadata": {},
   "outputs": [
    {
     "name": "stdout",
     "output_type": "stream",
     "text": [
      "job joxFSjiarDSkhPSu is currently compiling\n",
      "PRAGMA EXPECTED_REWIRING \"#(0 1 2 3 4 5 6 7)\"\n",
      "RZ(-1.5707963267948992) 0\n",
      "RX(pi/2) 0\n",
      "RZ(2.888982866515854) 0\n",
      "RX(pi/2) 0\n",
      "RZ(2.7749508004150574) 1\n",
      "RX(1.5707963267948946) 1\n",
      "CZ 0 1\n",
      "RX(pi/2) 0\n",
      "RX(-1.570796326794895) 1\n",
      "CZ 0 1\n",
      "RX(-pi/2) 0\n",
      "RZ(-2.7749508004150574) 0\n",
      "RZ(3.141592653589791) 1\n",
      "RX(pi/2) 1\n",
      "RZ(0.25260978707393816) 1\n",
      "RX(-pi/2) 1\n",
      "RZ(1.5707963267948977) 1\n",
      "PRAGMA CURRENT_REWIRING \"#(0 1 2 3 4 5 6 7)\"\n",
      "PRAGMA EXPECTED_REWIRING \"#(0 1 2 3 4 5 6 7)\"\n",
      "PRAGMA CURRENT_REWIRING \"#(0 1 2 3 4 5 6 7)\"\n",
      "\n"
     ]
    }
   ],
   "source": [
    "import pyquil\n",
    "from pyquil.api import CompilerConnection, get_devices\n",
    "from pyquil.gates import CNOT\n",
    "\n",
    "device = pyquil.api.get_devices(as_dict=True)['8Q-Agave']\n",
    "compiler = pyquil.api.CompilerConnection(device=device)\n",
    "\n",
    "program = Program(CNOT(i%2, (i+1)%2) for i in range(20))\n",
    "job_id = compiler.compile_async(program)\n",
    "job = compiler.wait_for_job(job_id)\n",
    "\n",
    "print(job.compiled_quil())"
   ]
  },
  {
   "cell_type": "code",
   "execution_count": 90,
   "metadata": {},
   "outputs": [
    {
     "name": "stdout",
     "output_type": "stream",
     "text": [
      "\n",
      "Gate depth: 12\n",
      "Multi-qubit gate depth: 2\n",
      "Program fidelity: 0.703\n",
      "\n"
     ]
    }
   ],
   "source": [
    "print(f'''\n",
    "Gate depth: {job.gate_depth()}\n",
    "Multi-qubit gate depth: {job.multiqubit_gate_depth()}\n",
    "Program fidelity: {job.program_fidelity():.3f}\n",
    "''')"
   ]
  },
  {
   "cell_type": "markdown",
   "metadata": {},
   "source": [
    "#### Exercise 4.7\n",
    "Inspect the following circuit. Compile it to the `8Q-Agave` device. How does the compiled version differ from the uncompiled one?\n",
    "\n",
    "```\n",
    "H 2\n",
    "H 4\n",
    "H 7\n",
    "CNOT 2 4\n",
    "CNOT 4 7\n",
    "CNOT 2 4\n",
    "H 7\n",
    "H 4\n",
    "H 2\n",
    "```"
   ]
  },
  {
   "cell_type": "code",
   "execution_count": 84,
   "metadata": {},
   "outputs": [
    {
     "name": "stdout",
     "output_type": "stream",
     "text": [
      "job lHgXqzpnChxVdpEz is currently compiling\n",
      "PRAGMA EXPECTED_REWIRING \"#(0 1 3 2 4 6 7 5)\"\n",
      "RZ(pi/2) 3\n",
      "RX(pi/2) 3\n",
      "RX(-pi) 4\n",
      "CZ 4 3\n",
      "RZ(-pi/2) 4\n",
      "RX(-pi/2) 4\n",
      "RX(-pi) 5\n",
      "CZ 5 4\n",
      "RZ(-pi) 4\n",
      "RX(pi/2) 4\n",
      "CZ 4 3\n",
      "RZ(-pi) 3\n",
      "RX(pi/2) 3\n",
      "RZ(pi/2) 3\n",
      "RZ(pi/2) 4\n",
      "RX(-pi) 4\n",
      "RX(-pi) 5\n",
      "PRAGMA CURRENT_REWIRING \"#(0 1 3 2 4 6 7 5)\"\n",
      "PRAGMA EXPECTED_REWIRING \"#(0 1 3 2 4 6 7 5)\"\n",
      "PRAGMA CURRENT_REWIRING \"#(0 1 3 2 4 6 7 5)\"\n",
      "\n"
     ]
    }
   ],
   "source": [
    "import pyquil\n",
    "from pyquil.api import CompilerConnection, get_devices\n",
    "\n",
    "device = pyquil.api.get_devices(as_dict=True)['8Q-Agave']\n",
    "compiler = pyquil.api.CompilerConnection(device=device)\n",
    "\n",
    "program = Program(\"\"\"\n",
    "H 2\n",
    "H 4\n",
    "H 7\n",
    "CNOT 2 4\n",
    "CNOT 4 7\n",
    "CNOT 2 4\n",
    "H 7\n",
    "H 4\n",
    "H 2\n",
    "\"\"\")\n",
    "job_id = compiler.compile_async(program, isa=device.isa)\n",
    "job = compiler.wait_for_job(job_id)\n",
    "\n",
    "print(job.compiled_quil())"
   ]
  }
 ],
 "metadata": {
  "kernelspec": {
   "display_name": "Python 3",
   "language": "python",
   "name": "python3"
  },
  "language_info": {
   "codemirror_mode": {
    "name": "ipython",
    "version": 3
   },
   "file_extension": ".py",
   "mimetype": "text/x-python",
   "name": "python",
   "nbconvert_exporter": "python",
   "pygments_lexer": "ipython3",
   "version": "3.6.5"
  }
 },
 "nbformat": 4,
 "nbformat_minor": 2
}
