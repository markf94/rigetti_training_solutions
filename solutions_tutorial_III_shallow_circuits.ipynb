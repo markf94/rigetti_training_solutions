{
 "cells": [
  {
   "cell_type": "markdown",
   "metadata": {},
   "source": [
    "# Solutions Tutorial 3: Shallow Circuits"
   ]
  },
  {
   "cell_type": "markdown",
   "metadata": {},
   "source": [
    "##### After going through this 1 hour tutorial you will:\n",
    "\n",
    "- know what a universal quantum gate set is\n",
    "- be able to decompose quantum gates using universal gate sets\n",
    "- know how to manually initialize quantum states\n",
    "- know [pyQuil](https://github.com/rigetticomputing/pyquil)'s quantum algorithm library [Grove](https://github.com/rigetticomputing/grove)\n",
    "- understand how to simulate Hamiltonians on universal quantum computers"
   ]
  },
  {
   "cell_type": "markdown",
   "metadata": {},
   "source": [
    "As always, we first need to make sure that pyQuil is installed and we set up our API key & user ID in order to be able to use Rigetti's servers."
   ]
  },
  {
   "cell_type": "code",
   "execution_count": null,
   "metadata": {},
   "outputs": [],
   "source": [
    "!pip install pyquil"
   ]
  },
  {
   "cell_type": "code",
   "execution_count": null,
   "metadata": {},
   "outputs": [],
   "source": [
    "import os\n",
    "\n",
    "API_KEY = 'YOUR API KEY GOES HERE'\n",
    "USER_ID = 'YOUR USER ID GOES HERE'\n",
    "\n",
    "PYQUIL_CONFIG = f\"\"\"\n",
    "[Rigetti Forest]\n",
    "url: https://api.rigetti.com/qvm\n",
    "key: {API_KEY}\n",
    "user_id: {USER_ID}\n",
    "\"\"\"\n",
    "\n",
    "with open(os.path.expanduser('~/.pyquil_config'), 'w') as f:\n",
    "    f.write(PYQUIL_CONFIG)"
   ]
  },
  {
   "cell_type": "markdown",
   "metadata": {},
   "source": [
    "***\n",
    "## 1. Universal quantum gate set"
   ]
  },
  {
   "cell_type": "markdown",
   "metadata": {},
   "source": [
    "Most near-term quantum computers have a limited set of quantum gates which can be implemented on the hardware level. For example, Rigetti implements only two single-qubit and one two-qubit gate on the QPU. More specifically, these are $RZ(\\theta)$, $RX(\\frac{k\\pi}{2})$, and a controlled $Z$ ($CZ$) defined as:"
   ]
  },
  {
   "cell_type": "markdown",
   "metadata": {},
   "source": [
    "$$\\newcommand{\\ket}[1]{\\left|{#1}\\right\\rangle}\n",
    "\\newcommand{\\bra}[1]{\\left\\langle{#1}\\right|}$$\n",
    "$$R_Z(\\theta) = \\begin{bmatrix}\n",
    "    e^{-i\\frac{\\theta}{2}} & 0 \\\\\n",
    "    0 & e^{i\\frac{\\theta}{2}}\n",
    "    \\end{bmatrix}$$\n",
    "    \n",
    "$$R_X(\\frac{k\\pi}{2}) = \\begin{bmatrix}\n",
    "    \\cos\\frac{k\\pi}{4} & -i\\sin\\frac{k\\pi}{4} \\\\\n",
    "    -i\\sin\\frac{k\\pi}{4} & \\cos\\frac{k\\pi}{4}\n",
    "    \\end{bmatrix}$$\n",
    "    \n",
    "$$CZ = \\begin{bmatrix}\n",
    "    1 & 0 & 0 & 0 \\\\\n",
    "    0 & 1 & 0 & 0 \\\\\n",
    "    0 & 0 & 1 & 0 \\\\\n",
    "    0 & 0 & 0 & -1 \\\\\n",
    "    \\end{bmatrix}$$"
   ]
  },
  {
   "cell_type": "markdown",
   "metadata": {},
   "source": [
    "At first, this set of quantum gates might seem very small. Especially considering that we just learned in Lecture II that there are infinitely many quantum gates (since the only requirement is unitarity)! However, there is a very important theorem at the core of quantum theory:\n",
    "\n",
    "###### The Solovay-Kitaev theorem\n",
    "Let $G$ be a universal quantum set consisting of quantum gates from SU(2) and\n",
    "let $\\epsilon > 0$ be a desired accuracy. Then there is a constant $b$ such that for any single-qubit\n",
    "gate $W \\in$ $SU(2)$ there exists a finite gate sequence $\\tilde{G}$ of gates from the set $G$ of length\n",
    "$\\mathcal{O}(\\log^b (\\frac{1}{\\epsilon}))$ such that $d(W, \\tilde{G}) < \\epsilon$. In their proof, Dawson and Nielsen (2005) show that $b \\approx 3.97$.\n",
    "\n",
    "In other words, using a universal quantum gate set we can approximate any circuit containing $m$ CNOTs and single qubit unitaries to an accuracy $\\epsilon$ with $\\mathcal{O}(m \\log^b (\\frac{m}{\\epsilon}))$ gates. That's a polylogarithmic increase in size compared to the original circuit which is very acceptable for almost all applications.\n",
    "\n",
    "And of course Rigetti's set of three quantum gates is universal. **Hence, any quantum circuit can be constructed from this universal set of quantum gates!**\n",
    "\n",
    "***"
   ]
  },
  {
   "cell_type": "markdown",
   "metadata": {},
   "source": [
    "In Lecture II on quantum gates and notation we've been discussing the four Pauli gates I, X, Y and Z as well as the Hadamard gate. For the next exercises, we've manually implemented these four gates as matrices using `numpy.matrix`:"
   ]
  },
  {
   "cell_type": "code",
   "execution_count": null,
   "metadata": {
    "scrolled": true
   },
   "outputs": [],
   "source": [
    "import numpy as np\n",
    "\n",
    "pauli_I = np.matrix([[1, 0],[0, 1]])\n",
    "print(f'Identity gate matrix: \\n {pauli_I} \\n')\n",
    "pauli_X = np.matrix([[0, 1],[1, 0]])\n",
    "print(f'Pauli X gate matrix: \\n {pauli_X} \\n')\n",
    "pauli_Y = np.matrix([[0, -1j],[1j, 0]])\n",
    "print(f'Pauli Y gate matrix: \\n {pauli_Y} \\n')\n",
    "pauli_Z = np.matrix([[1, 0],[0, -1]])\n",
    "print(f'Pauli Z gate matrix: \\n {pauli_Z} \\n')\n",
    "hadamard = np.matrix([[0.707, 0.707],[0.707, -0.707]])\n",
    "print(f'Hadamard gate matrix: \\n {hadamard} \\n')"
   ]
  },
  {
   "cell_type": "markdown",
   "metadata": {},
   "source": [
    "##### Exercise 1.0\n",
    "For which value of $\\theta$ does $RZ(\\theta)$ represent the Pauli Z gate?"
   ]
  },
  {
   "cell_type": "code",
   "execution_count": null,
   "metadata": {},
   "outputs": [],
   "source": [
    "import cmath\n",
    "\n",
    "# manual definition of Rigetti's parametrized RZ gate. no need to modify.\n",
    "rz = lambda theta: np.matrix([[cmath.exp(-1j*theta/2), 0],[0, cmath.exp(1j*theta/2)]])\n",
    "\n",
    "theta = cmath.pi # TODO: find the right value for theta\n",
    "\n",
    "print(f'RZ with theta={theta} results in the following matrix: \\n\\n {1j*rz(theta)} \\n')\n",
    "print(f'Subtracting RZ with theta = {theta} from pauli_Z results in: \\n\\n {np.round(1j*rz(theta)-pauli_Z)}')"
   ]
  },
  {
   "cell_type": "markdown",
   "metadata": {},
   "source": [
    "##### Exercise 1.1\n",
    "For which integer value of $k$ does $RX(\\phi)$ with $\\phi=\\frac{k\\pi}{2}$ represent the Pauli X gate?"
   ]
  },
  {
   "cell_type": "code",
   "execution_count": null,
   "metadata": {},
   "outputs": [],
   "source": [
    "# manual definition of Rigetti's parametrized RX gate. no need to modify.\n",
    "rx = lambda phi: np.matrix([[cmath.cos(phi/2), -1j*cmath.sin(phi/2)],[-1j*cmath.sin(phi/2), cmath.cos(phi/2)]])\n",
    "\n",
    "k = 2 # TODO: find the right value for k (must be an integer)\n",
    "\n",
    "phi = k*cmath.pi/2 # do NOT modify (this is Rigetti's RX parametrization)\n",
    "print(f'RX with k={k} results in the following matrix: \\n\\n {1j*rx(phi)}\\n')\n",
    "print(f'Subtracting RX with k = {k} from pauli_X results in: \\n\\n {np.round(1j*rx(phi)-pauli_X)}')"
   ]
  },
  {
   "cell_type": "markdown",
   "metadata": {},
   "source": [
    "***\n",
    "## 2. Quantum gate decomposition"
   ]
  },
  {
   "cell_type": "markdown",
   "metadata": {},
   "source": [
    "To fully grasp the implications of the Solovay-Kitaev theorem you will manually decompose several gates in this section."
   ]
  },
  {
   "cell_type": "markdown",
   "metadata": {},
   "source": [
    "##### Exercise 2.0\n",
    "Use the definitions of Rigetti's $RZ(\\theta)$ and $RX(\\frac{k\\pi}{2})$ gates above to find a combination (product) of gates that implements the Hadamard (H) on Rigetti's QPU! As a recap here is the matrix representation of the Hadamard gate:\n",
    "$$H = \\frac{1}{\\sqrt{2}} \\begin{bmatrix}\n",
    "    1 & 1 \\\\\n",
    "    1 & -1\n",
    "    \\end{bmatrix}  \\approx  \\begin{bmatrix}\n",
    "    0.707 & 0.707 \\\\\n",
    "    0.707 & -0.707\n",
    "    \\end{bmatrix}$$\n",
    "\n",
    "<a title=\"Try multiplying the resulting matrix with the imaginary number i (remember that global phase doesn't matter) in order to get the correct result.\">Hint.</a>"
   ]
  },
  {
   "cell_type": "code",
   "execution_count": null,
   "metadata": {},
   "outputs": [],
   "source": [
    "# TODO: play with these two values (theta and k)\n",
    "theta = cmath.pi/2\n",
    "k = 1 # must be an integer\n",
    "\n",
    "# the angle for the RX gate is fixed to integer multiple of pi/2\n",
    "phi = k*cmath.pi/2\n",
    "\n",
    "# TODO: make different products (use 2, 3 or 4 gates)\n",
    "gate_product = rz(theta)*rx(phi)*rz(theta)*1j\n",
    "print(f'The sequence of gates yields the matrix: \\n \\n {gate_product} \\n')\n",
    "print(f'Subtracting this sequence of gates from the Hadamard yields: \\n \\n {np.round(gate_product-hadamard)}')"
   ]
  },
  {
   "attachments": {
    "image.png": {
     "image/png": "[encoded data removed]"
    }
   },
   "cell_type": "markdown",
   "metadata": {},
   "source": [
    "#### Exercise 2.1:\n",
    "[This paper by Garcia-Escartin and Chamorro-Posada](https://arxiv.org/pdf/1110.2998.pdf) is a great resource to understand the equivalence of a lot of different circuits. Among other useful things, they show that the following circuit involving a controlled-Z (CZ) gate is equivalent to a single CNOT operation:\n",
    "\n",
    "<img src=\"attachment:image.png\" width=\"300\">\n",
    "\n",
    "Use your decomposed Hadamard gate from the previous exercise to implement a $CNOT$ (up to an unimportant global phase) using a $CZ$ gate and parametrized RX and RZ gates in pyQuil!\n",
    "\n",
    "**NOTE: Don't use the definitions of `rz` and `rx` from the previous exercises but rather use pyQuil's parametrized RX and RZ gates.**"
   ]
  },
  {
   "cell_type": "code",
   "execution_count": null,
   "metadata": {
    "scrolled": true
   },
   "outputs": [],
   "source": [
    "# from pyquil.api import CompilerConnection, get_devices\n",
    "from pyquil.quil import Program\n",
    "from pyquil.gates import RX, RZ, CZ, X\n",
    "from pyquil.api import QVMConnection\n",
    "%matplotlib inline\n",
    "\n",
    "# leaving the control qubit OFF (0)\n",
    "p = Program()\n",
    "\n",
    "# TODO: create a circuit with RX, RZ and CZ that equals a single CNOT gate\n",
    "p.inst(RZ(theta)(1), RX(phi)(1), RZ(theta)(1), CZ(0,1), RZ(theta)(1), RX(phi)(1), RZ(theta)(1))\n",
    "\n",
    "# establish connection to QVM and get wavefunction\n",
    "qvm = QVMConnection()\n",
    "wavefunction = qvm.wavefunction(p)\n",
    "print(f'With control qubit OFF the resulting wavefunction is: {wavefunction}')\n",
    "wavefunction.plot()\n",
    "\n",
    "\n",
    "# turning the control qubit ON (1)\n",
    "p = Program().inst(X(0))\n",
    "\n",
    "# TODO: create a circuit with RX, RZ and CZ that equals a single CNOT gate\n",
    "p.inst(RZ(theta)(1), RX(phi)(1), RZ(theta)(1), CZ(0,1), RZ(theta)(1), RX(phi)(1), RZ(theta)(1))\n",
    "\n",
    "# establish connection to QVM and get wavefunction\n",
    "qvm = QVMConnection()\n",
    "wavefunction = qvm.wavefunction(p)\n",
    "print(f'With control qubit ON the resulting wavefunction is: {wavefunction}')\n",
    "wavefunction.plot()"
   ]
  },
  {
   "cell_type": "markdown",
   "metadata": {},
   "source": [
    "***\n",
    "## 3. Quantum state preparation"
   ]
  },
  {
   "cell_type": "markdown",
   "metadata": {},
   "source": [
    "The goal of quantum state preparation is the ability to generate quantum states with arbitrary amplitude distributions. Formally speaking, given a complex non-zero amplitude vector $\\mathbf{a} \\in \\mathbb{C}^N$ with components $a_i$ find an algorithm that takes the initial state $\\ket{0}^{\\otimes \\log_2 N}$ and outputs the following state:\n",
    "$$\\ket{\\Psi} = \\sum^{N-1}_{i=0} \\frac{a_i}{\\mid \\mathbf{a} \\mid} \\ket{i}$$\n",
    "where $\\ket{i}$ stands for $i$ in its binary representation."
   ]
  },
  {
   "cell_type": "markdown",
   "metadata": {},
   "source": [
    "#### Exercise 3.0:\n",
    "Design and implement a quantum circuit that initializes the following quantum state:\n",
    "\n",
    "$$ \\ket{\\Psi} = \\frac{-i}{2} \\, \\ket{00} - \\frac{i}{2} \\, \\ket{01} + \\frac{i}{2} \\, \\ket{10} + \\frac{i}{2} \\,\\ket{11} $$\n",
    "\n",
    "<a title=\"Use pyQuil's wavefunction functionality to print the prepared quantum state.\">Hint.</a>"
   ]
  },
  {
   "cell_type": "code",
   "execution_count": null,
   "metadata": {},
   "outputs": [],
   "source": [
    "from pyquil.api import QVMConnection\n",
    "from pyquil.gates import CNOT, H, Z, Y\n",
    "from pyquil.quil import Program\n",
    "\n",
    "qvm = QVMConnection()\n",
    "p = Program()\n",
    "\n",
    "# TODO: initialize the quantum state with quantum gates\n",
    "p.inst(H(0), H(1), Y(1))\n",
    "\n",
    "print(qvm.wavefunction(p))"
   ]
  },
  {
   "cell_type": "markdown",
   "metadata": {},
   "source": [
    "#### Exercise 3.1:\n",
    "Built a quantum circuit with a conditional measurement to construct the following quantum state:\n",
    "\n",
    "$$ \\ket{\\Psi} = -\\frac{1}{2} \\,|001> -  \\, \\frac{1}{2} \\,|011> + \\, \\frac{1}{2} \\,|101> + \\, \\frac{1}{2} \\,|111> $$\n",
    "\n",
    "<a title=\"Look at the if_then() function to access the shared memory in order to perform a conditional measurement.\">Hint.</a>"
   ]
  },
  {
   "cell_type": "code",
   "execution_count": null,
   "metadata": {},
   "outputs": [],
   "source": [
    "from pyquil.api import QVMConnection\n",
    "from pyquil.gates import CNOT, H, Z, CCNOT, X, CZ, I\n",
    "from pyquil.quil import Program\n",
    "\n",
    "qvm = QVMConnection()\n",
    "p = Program()\n",
    "\n",
    "# TODO: initialize the quantum state with quantum gates\n",
    "then_branch = Program()\n",
    "else_branch = Program(X(0))\n",
    "\n",
    "p.inst(H(0), H(1), H(2)).inst(CZ(0,2)).inst(X(0)).measure(0,0)\n",
    "p.if_then(0, then_branch, else_branch).inst(Z(0),Z(2))\n",
    "\n",
    "print(qvm.wavefunction(p))"
   ]
  },
  {
   "cell_type": "markdown",
   "metadata": {},
   "source": [
    "***\n",
    "## 4. Rigetti's Grove algorithms library"
   ]
  },
  {
   "cell_type": "markdown",
   "metadata": {},
   "source": [
    "There is several algorithms for quantum state preparation in the literature. For example, see [1](https://arxiv.org/pdf/1706.02721.pdf), [2](https://journals.aps.org/pra/abstract/10.1103/PhysRevA.73.012307), [3](https://journals.aps.org/prl/abstract/10.1103/PhysRevLett.87.067901), [4](https://arxiv.org/abs/quant-ph/0208112) and [5](https://link.springer.com/article/10.1023/A:1021695125245). You should definitely read them at some point since they offer great insight into the difficulties involved with quantum state preparation. As you will see, each of these algorithms comes with it tradeoffs and you will eventually figure out which one fits your needs. Also keep in mind that near-term quantum computers limit the number of quantum gate operations you can perform due to decoherence (also called **quantum circuit depth**). Most of the above algorithms will have extensive resource requirements to ensure generality which will probably force you to do manual state preparation in order to ensure maximum efficiency."
   ]
  },
  {
   "cell_type": "markdown",
   "metadata": {},
   "source": [
    "At this point, we need to install [Grove](https://github.com/rigetticomputing/grove) - a Python library with plenty of quantum algorithms implemented in [pyQuil](https://github.com/rigetticomputing/pyquil). I highly recommend you to check out the Grove documentation since it is a great resource to learn about the individual quantum algorithms and their implementations!"
   ]
  },
  {
   "cell_type": "code",
   "execution_count": null,
   "metadata": {},
   "outputs": [],
   "source": [
    "!pip install git+https://github.com/rigetticomputing/grove"
   ]
  },
  {
   "cell_type": "markdown",
   "metadata": {},
   "source": [
    "#### Exercise 4.0:\n",
    "Use Grove's arbitrary state generation algorithm to generate circuits for the quantum states in Exercises 3.0 and 3.1."
   ]
  },
  {
   "cell_type": "code",
   "execution_count": null,
   "metadata": {},
   "outputs": [],
   "source": [
    "# TODO: Use Grove to generate circuits\n",
    "from grove.alpha.arbitrary_state.arbitrary_state import create_arbitrary_state\n",
    "\n",
    "# generating circuit for quantum state from exercise 3.0\n",
    "amplitude_vector = [-1j/2, -1j/2, 1j/2, 1j/2]\n",
    "p = create_arbitrary_state(amplitude_vector)\n",
    "print(f'Generated wavefunction for exercise 3.0: \\n{qvm.wavefunction(p)} \\n')\n",
    "print(f'Quantum circuit used to generate the state: \\n{p}')\n",
    "\n",
    "\n",
    "# generating circuit for quantum state from exercise 3.1\n",
    "amplitude_vector = [0, -1/2, 0, -1/2, 0, 1/2, 0, 1/2]\n",
    "p = create_arbitrary_state(amplitude_vector)\n",
    "print(f'Generated wavefunction for exercise 3.1: \\n{qvm.wavefunction(p)} \\n')\n",
    "print(f'Quantum circuit used to generate the state: \\n{p}')"
   ]
  },
  {
   "cell_type": "markdown",
   "metadata": {},
   "source": [
    "#### Exercise 4.1:\n",
    "Print the generated circuits in Exercise 4.0 and compare them with the circuits that you designed by hand in section 3. Were you doing better or worse in terms of quantum circuit depth?"
   ]
  },
  {
   "cell_type": "markdown",
   "metadata": {},
   "source": [
    "***\n",
    "## 5. Quantum simulation"
   ]
  },
  {
   "cell_type": "markdown",
   "metadata": {},
   "source": [
    "Errors in quantum computations are major hurdles for the development of a universal fault-tolerant quantum computer. There is a whole research field dedicated to what we call **quantum error correction**. The various types of error propagate differently through CNOT gates. In the following section we will analyze this in more detail and use it to our advantage to simulate simple local Hamiltonians."
   ]
  },
  {
   "attachments": {
    "image.png": {
     "image/png": "[encoded data removed]"
    }
   },
   "cell_type": "markdown",
   "metadata": {},
   "source": [
    "### Example: Bit flip errors\n",
    "\n",
    "A bit flip error is a undesired spontaneous flip of a qubit and equivalent to the application of an X gate. Consider the following **error-free circuit**:\n",
    "\n",
    "<img src=\"attachment:image.png\" width=\"200\">\n",
    "\n",
    "With an initial state of $\\ket{00}$ we would also expect an output of $\\ket{00}$ since two CNOTs are equal to the identity operation."
   ]
  },
  {
   "attachments": {
    "image.png": {
     "image/png": "[encoded data removed]"
    }
   },
   "cell_type": "markdown",
   "metadata": {},
   "source": [
    "Now, let's assume a bit flip error on $q_0$ occurs between the two CNOT gates. The circuit with bit flip error then reads:\n",
    "\n",
    "<img src=\"attachment:image.png\" width=\"200\">\n",
    "\n",
    "With an initial state of $\\ket{00}$ we will know get an output of $\\ket{11}$ which means **the bit flip error propagated downwards through the second CNOT gate**!"
   ]
  },
  {
   "attachments": {
    "image.png": {
     "image/png": "[encoded data removed]"
    }
   },
   "cell_type": "markdown",
   "metadata": {},
   "source": [
    "For the sake of completeness, let's also check the case when a bit flip error on $q_1$ (rather than $q_0$) occurs between the two CNOT gates. The circuit then looks like:\n",
    "\n",
    "<img src=\"attachment:image.png\" width=\"200\">\n",
    "\n",
    "With an initial state of $\\ket{00}$ we will know get an output of $\\ket{01}$ which implies that a bit flip error does not travel upwards through a CNOT. Hence, we conclude that a bit flip error only propagates downwards through CNOT gates."
   ]
  },
  {
   "cell_type": "markdown",
   "metadata": {},
   "source": [
    "#### Exercise 5.0:\n",
    "Phase flip errors propagate upwards through CNOT gates. Verify this statement with pen & paper and/or with pyQuil by implementing a short circuit that:\n",
    "\n",
    "- initializes an equal superposition over all 2-qubit strings,\n",
    "- applies a phase (Z) gate to one of the qubits,\n",
    "- applies a CNOT gate to the two qubits,\n",
    "- observe how the phase flip propagates."
   ]
  },
  {
   "cell_type": "code",
   "execution_count": null,
   "metadata": {},
   "outputs": [],
   "source": [
    "from pyquil.api import QVMConnection\n",
    "from pyquil.gates import CNOT, H, Z\n",
    "from pyquil.quil import Program\n",
    "\n",
    "qvm = QVMConnection()\n",
    "\n",
    "for i in range(2):\n",
    "    p = Program()\n",
    "    p.inst(H(0), H(1))\n",
    "    p.inst(Z(i))\n",
    "    p.inst(CNOT(0,1))\n",
    "\n",
    "    print(f'Acting Z on qubit {i} yields: \\n{qvm.wavefunction(p)}\\n\\n')"
   ]
  },
  {
   "cell_type": "markdown",
   "metadata": {},
   "source": [
    "The resulting quantum states are **product states** and can be separated into two components:\n",
    "\n",
    "In the case of where we apply $Z$ to qubit 0 we get:\n",
    "\n",
    "$$\\frac{1}{2}\\,\\ket{00} - \\frac{1}{2}\\,\\ket{01} + \\frac{1}{2}\\,\\ket{10} - \\frac{1}{2}\\,\\ket{11} = \\frac{1}{\\sqrt{2}} (\\ket{0} + \\ket{1}) \\otimes \\frac{1}{\\sqrt{2}} (\\ket{0} - \\ket{1})$$\n",
    "\n",
    "From this it becomes evident that the phase shift of $-1$ was only applied to qubit 0 (the latter - remember the reverse qubit ordering!).\n",
    "\n",
    "However, in the case of where we apply $Z$ to qubit 1 we get:\n",
    "\n",
    "$$\\frac{1}{2}\\,\\ket{00} - \\frac{1}{2}\\,\\ket{01} - \\frac{1}{2}\\,\\ket{10} + \\frac{1}{2}\\,\\ket{11} = \\frac{1}{\\sqrt{2}} (\\ket{0} - \\ket{1}) \\otimes \\frac{1}{\\sqrt{2}} (\\ket{0} - \\ket{1})$$\n",
    "\n",
    "which clearly shows that the phase shift was applied to both qubits! Hence, the phase shift ($Z$) error propagated upwards through the CNOT gate!"
   ]
  },
  {
   "cell_type": "markdown",
   "metadata": {},
   "source": [
    "#### Exercise 5.1:\n",
    "We can exploit the fact that phase flip errors propagate upwards to simulate local Hamiltonians with many-body interactions such as:\n",
    "\n",
    "$$ H = \\pi \\big( Z_0 \\otimes Z_1 \\otimes Z_2 \\big) $$\n",
    "\n",
    "Implement a quantum circuit with at least three qubits in pyQuil that simulates the Hamiltonian above. <a title=\"Check out pages 209-211 in Nielsen & Chuang.\">Hint.</a>"
   ]
  },
  {
   "attachments": {
    "image.png": {
     "image/png": "[encoded data removed]"
    }
   },
   "cell_type": "markdown",
   "metadata": {},
   "source": [
    "We simply build a CNOT ladder as shown here:\n",
    "\n",
    "<img src=\"attachment:image.png\" width=\"200\">"
   ]
  },
  {
   "cell_type": "code",
   "execution_count": null,
   "metadata": {},
   "outputs": [],
   "source": [
    "# TODO: simulate the Hamiltonian above\n",
    "from pyquil.gates import CNOT, RZ\n",
    "\n",
    "p = Program([CNOT(0,2), CNOT(1,2), RZ(cmath.pi)(2) ,CNOT(1,2), CNOT(0,2)])\n",
    "\n",
    "print(qvm.wavefunction(p))"
   ]
  },
  {
   "cell_type": "markdown",
   "metadata": {},
   "source": [
    "***\n",
    "## 6. Bonus exercises"
   ]
  },
  {
   "cell_type": "markdown",
   "metadata": {},
   "source": [
    "#### Bonus Exercise 6.0:\n",
    "Find a Toffoli decomposition with the lowest T count possible (small number of $T$ gates) by using [Nielsen & Chuang](http://www-reynal.ensea.fr/docs/iq/QC10th.pdf) or other resources. Implement the following two circuits with pyQuil:\n",
    "\n",
    "- single Toffoli gate\n",
    "- decomposed Toffoli\n",
    "\n",
    "Using the three different input states: $\\ket{000},\n",
    "\\ket{010},\n",
    "\\ket{001},\n",
    "\\ket{011}$"
   ]
  },
  {
   "attachments": {
    "image.png": {
     "image/png": "[encoded data removed]"
    }
   },
   "cell_type": "markdown",
   "metadata": {},
   "source": [
    "We use the following decomposition of the Toffoli gate:\n",
    "\n",
    "![image.png](attachment:image.png)"
   ]
  },
  {
   "cell_type": "code",
   "execution_count": null,
   "metadata": {},
   "outputs": [],
   "source": [
    "from pyquil.gates import CCNOT\n",
    "from pyquil.gates import H, T, X, CNOT\n",
    "%matplotlib inline\n",
    "\n",
    "initial_states = [Program().inst(X(0)), Program().inst(X(1)), Program().inst(X(2)), Program().inst(X(0), X(1)), Program().inst(X(0), X(1), X(2))]\n",
    "\n",
    "for initial_state in initial_states:\n",
    "    # single Toffoli\n",
    "    original_toffoli = Program().inst(CCNOT(0,1,2))\n",
    "    print(f\"Original Toffoli result:\")\n",
    "    qvm.wavefunction(initial_state + original_toffoli).plot()\n",
    "    \n",
    "    # decomposed Toffoli\n",
    "    t_dagger = np.array([[1, 0], [ 0, cmath.exp(-1j*cmath.pi/4)]])\n",
    "    decomposed_toffoli = Program().defgate(\"T_dagger\", t_dagger) # register T_dagger\n",
    "    decomposed_toffoli.inst(H(2), CNOT(1,2), (\"T_dagger\", 2), CNOT(0,2), T(2))\n",
    "    decomposed_toffoli.inst(CNOT(1,2), (\"T_dagger\", 2), CNOT(0,2), T(1), T(2), H(2))\n",
    "    decomposed_toffoli.inst(CNOT(0,1), T(0), (\"T_dagger\", 1), CNOT(0,1))\n",
    "    print(f\"Decomposed Toffoli result:\")\n",
    "    qvm.wavefunction(initial_state + decomposed_toffoli).plot()"
   ]
  }
 ],
 "metadata": {
  "kernelspec": {
   "display_name": "Python 3",
   "language": "python",
   "name": "python3"
  },
  "language_info": {
   "codemirror_mode": {
    "name": "ipython",
    "version": 3
   },
   "file_extension": ".py",
   "mimetype": "text/x-python",
   "name": "python",
   "nbconvert_exporter": "python",
   "pygments_lexer": "ipython3",
   "version": "3.6.5"
  }
 },
 "nbformat": 4,
 "nbformat_minor": 2
}
